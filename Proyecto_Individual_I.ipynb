{
 "cells": [
  {
   "cell_type": "markdown",
   "metadata": {},
   "source": [
    "                                PROCESO ETL PI (PHYTON- PANDAS- MYSQL)"
   ]
  },
  {
   "cell_type": "markdown",
   "metadata": {},
   "source": [
    "PASO 1 </br>\n",
    "En este paso vamos a cargar todos los datasets en crudo\n"
   ]
  },
  {
   "cell_type": "markdown",
   "metadata": {},
   "source": [
    "    Importamos la libreria necesaria"
   ]
  },
  {
   "cell_type": "code",
   "execution_count": 1,
   "metadata": {},
   "outputs": [],
   "source": [
    "import pandas as pd"
   ]
  },
  {
   "cell_type": "markdown",
   "metadata": {},
   "source": [
    "    Convertimos los diferentes archivos a .csv, los almacenamos en un dataframe de pandas y visualizamos el contenido"
   ]
  },
  {
   "cell_type": "code",
   "execution_count": 2,
   "metadata": {},
   "outputs": [],
   "source": [
    "import os\n",
    "def Automatizacion ():\n",
    "        archivo = input('Ingrese el path del archivo')\n",
    "        split_tup = os.path.splitext(archivo) \n",
    "        nombre_archivo = split_tup[0] \n",
    "        extension_archivo = split_tup[1] \n",
    "\n",
    "        if (extension_archivo == '.csv'):\n",
    "                e = input('ingrese el enconding del csv')\n",
    "                df_csv = pd.read_csv(archivo, encoding=e)\n",
    "                print('csv cargado con exito')\n",
    "\n",
    "                df_csv.to_csv(nombre_archivo, index = False, sep=';' ,encoding = 'UTF-8')\n",
    "                print('Convertido a csv')\n",
    "\n",
    "        if (extension_archivo == '.json'):\n",
    "                df_json = pd.read_json(archivo)    \n",
    "                print('json cargado con exito')\n",
    "\n",
    "                df_json.to_csv(nombre_archivo, index = False, sep=';' ,encoding = 'UTF-8')\n",
    "                print('Convertido a csv')\n",
    "\n",
    "        if (extension_archivo == '.txt'):\n",
    "                s = input('ingrese el tipo de separador del txt')\n",
    "                df_txt = pd.read_csv(archivo, sep=s)    \n",
    "                print('txt cargado con exito')\n",
    "\n",
    "                df_txt.to_csv(nombre_archivo, index = False, sep=';' ,encoding = 'UTF-8')\n",
    "                print('Convertido a csv')\n",
    "\n",
    "        if (extension_archivo == '.parquet'):\n",
    "                df_parquet = pd.read_parquet(archivo)    \n",
    "                print('parquet cargado con exito')\n",
    "\n",
    "                df_parquet.to_csv(nombre_archivo, index = False, sep=';' ,encoding = 'UTF-8')\n",
    "                print('Convertido a csv')\n",
    "\n",
    "        if (extension_archivo == '.xlsx'):\n",
    "                df = pd.read_excel(archivo, sheet_name=None)\n",
    "                df_excel = pd.concat(df, ignore_index=True) \n",
    "                print('excel cargado con exito') \n",
    "\n",
    "                df_excel.to_csv(nombre_archivo, index = False, sep=';' ,encoding = 'UTF-8')\n",
    "                print('Convertido a csv')"
   ]
  },
  {
   "cell_type": "code",
   "execution_count": 3,
   "metadata": {},
   "outputs": [],
   "source": [
    "Automatizacion()"
   ]
  },
  {
   "cell_type": "code",
   "execution_count": 4,
   "metadata": {},
   "outputs": [
    {
     "data": {
      "text/html": [
       "<div>\n",
       "<style scoped>\n",
       "    .dataframe tbody tr th:only-of-type {\n",
       "        vertical-align: middle;\n",
       "    }\n",
       "\n",
       "    .dataframe tbody tr th {\n",
       "        vertical-align: top;\n",
       "    }\n",
       "\n",
       "    .dataframe thead th {\n",
       "        text-align: right;\n",
       "    }\n",
       "</style>\n",
       "<table border=\"1\" class=\"dataframe\">\n",
       "  <thead>\n",
       "    <tr style=\"text-align: right;\">\n",
       "      <th></th>\n",
       "      <th>precio</th>\n",
       "      <th>producto_id</th>\n",
       "      <th>sucursal_id</th>\n",
       "    </tr>\n",
       "  </thead>\n",
       "  <tbody>\n",
       "    <tr>\n",
       "      <th>0</th>\n",
       "      <td>29.90</td>\n",
       "      <td>0000000001663</td>\n",
       "      <td>2-1-014</td>\n",
       "    </tr>\n",
       "    <tr>\n",
       "      <th>1</th>\n",
       "      <td>29.90</td>\n",
       "      <td>0000000002288</td>\n",
       "      <td>2-1-032</td>\n",
       "    </tr>\n",
       "    <tr>\n",
       "      <th>2</th>\n",
       "      <td>39.90</td>\n",
       "      <td>0000000002288</td>\n",
       "      <td>2-1-096</td>\n",
       "    </tr>\n",
       "    <tr>\n",
       "      <th>3</th>\n",
       "      <td>499.99</td>\n",
       "      <td>0000000205870</td>\n",
       "      <td>9-1-686</td>\n",
       "    </tr>\n",
       "    <tr>\n",
       "      <th>4</th>\n",
       "      <td>519.99</td>\n",
       "      <td>0000000205870</td>\n",
       "      <td>9-2-248</td>\n",
       "    </tr>\n",
       "  </tbody>\n",
       "</table>\n",
       "</div>"
      ],
      "text/plain": [
       "   precio    producto_id sucursal_id\n",
       "0   29.90  0000000001663     2-1-014\n",
       "1   29.90  0000000002288     2-1-032\n",
       "2   39.90  0000000002288     2-1-096\n",
       "3  499.99  0000000205870     9-1-686\n",
       "4  519.99  0000000205870     9-2-248"
      ]
     },
     "execution_count": 4,
     "metadata": {},
     "output_type": "execute_result"
    }
   ],
   "source": [
    "precios_semana_20200413 = pd.read_csv('CSV\\precios_semana_20200413', sep = ';')\n",
    "precios_semana_20200413.head()"
   ]
  },
  {
   "cell_type": "code",
   "execution_count": 5,
   "metadata": {},
   "outputs": [
    {
     "data": {
      "text/html": [
       "<div>\n",
       "<style scoped>\n",
       "    .dataframe tbody tr th:only-of-type {\n",
       "        vertical-align: middle;\n",
       "    }\n",
       "\n",
       "    .dataframe tbody tr th {\n",
       "        vertical-align: top;\n",
       "    }\n",
       "\n",
       "    .dataframe thead th {\n",
       "        text-align: right;\n",
       "    }\n",
       "</style>\n",
       "<table border=\"1\" class=\"dataframe\">\n",
       "  <thead>\n",
       "    <tr style=\"text-align: right;\">\n",
       "      <th></th>\n",
       "      <th>precio</th>\n",
       "      <th>producto_id</th>\n",
       "      <th>sucursal_id</th>\n",
       "    </tr>\n",
       "  </thead>\n",
       "  <tbody>\n",
       "    <tr>\n",
       "      <th>0</th>\n",
       "      <td>29.90</td>\n",
       "      <td>0000000002288</td>\n",
       "      <td>2-1-187</td>\n",
       "    </tr>\n",
       "    <tr>\n",
       "      <th>1</th>\n",
       "      <td>39.90</td>\n",
       "      <td>0000000002288</td>\n",
       "      <td>2-3-247</td>\n",
       "    </tr>\n",
       "    <tr>\n",
       "      <th>2</th>\n",
       "      <td>499.99</td>\n",
       "      <td>0000000205870</td>\n",
       "      <td>9-1-685</td>\n",
       "    </tr>\n",
       "    <tr>\n",
       "      <th>3</th>\n",
       "      <td>539.99</td>\n",
       "      <td>0000000205870</td>\n",
       "      <td>9-2-22</td>\n",
       "    </tr>\n",
       "    <tr>\n",
       "      <th>4</th>\n",
       "      <td>519.99</td>\n",
       "      <td>0000000205870</td>\n",
       "      <td>9-2-59</td>\n",
       "    </tr>\n",
       "  </tbody>\n",
       "</table>\n",
       "</div>"
      ],
      "text/plain": [
       "   precio    producto_id sucursal_id\n",
       "0   29.90  0000000002288     2-1-187\n",
       "1   39.90  0000000002288     2-3-247\n",
       "2  499.99  0000000205870     9-1-685\n",
       "3  539.99  0000000205870      9-2-22\n",
       "4  519.99  0000000205870      9-2-59"
      ]
     },
     "execution_count": 5,
     "metadata": {},
     "output_type": "execute_result"
    }
   ],
   "source": [
    "precios_semana_20200503 = pd.read_csv('CSV\\precios_semana_20200503', sep = ';')\n",
    "precios_semana_20200503.head()"
   ]
  },
  {
   "cell_type": "code",
   "execution_count": 6,
   "metadata": {},
   "outputs": [
    {
     "data": {
      "text/html": [
       "<div>\n",
       "<style scoped>\n",
       "    .dataframe tbody tr th:only-of-type {\n",
       "        vertical-align: middle;\n",
       "    }\n",
       "\n",
       "    .dataframe tbody tr th {\n",
       "        vertical-align: top;\n",
       "    }\n",
       "\n",
       "    .dataframe thead th {\n",
       "        text-align: right;\n",
       "    }\n",
       "</style>\n",
       "<table border=\"1\" class=\"dataframe\">\n",
       "  <thead>\n",
       "    <tr style=\"text-align: right;\">\n",
       "      <th></th>\n",
       "      <th>precio</th>\n",
       "      <th>producto_id</th>\n",
       "      <th>sucursal_id</th>\n",
       "    </tr>\n",
       "  </thead>\n",
       "  <tbody>\n",
       "    <tr>\n",
       "      <th>0</th>\n",
       "      <td>29.90</td>\n",
       "      <td>0000000002288</td>\n",
       "      <td>2-1-009</td>\n",
       "    </tr>\n",
       "    <tr>\n",
       "      <th>1</th>\n",
       "      <td>32.90</td>\n",
       "      <td>0000000002288</td>\n",
       "      <td>2-1-037</td>\n",
       "    </tr>\n",
       "    <tr>\n",
       "      <th>2</th>\n",
       "      <td>36.90</td>\n",
       "      <td>0000000002288</td>\n",
       "      <td>2-1-090</td>\n",
       "    </tr>\n",
       "    <tr>\n",
       "      <th>3</th>\n",
       "      <td>39.90</td>\n",
       "      <td>0000000002288</td>\n",
       "      <td>2-3-247</td>\n",
       "    </tr>\n",
       "    <tr>\n",
       "      <th>4</th>\n",
       "      <td>499.99</td>\n",
       "      <td>0000000205870</td>\n",
       "      <td>9-1-430</td>\n",
       "    </tr>\n",
       "  </tbody>\n",
       "</table>\n",
       "</div>"
      ],
      "text/plain": [
       "   precio    producto_id sucursal_id\n",
       "0   29.90  0000000002288     2-1-009\n",
       "1   32.90  0000000002288     2-1-037\n",
       "2   36.90  0000000002288     2-1-090\n",
       "3   39.90  0000000002288     2-3-247\n",
       "4  499.99  0000000205870     9-1-430"
      ]
     },
     "execution_count": 6,
     "metadata": {},
     "output_type": "execute_result"
    }
   ],
   "source": [
    "precios_semana_20200518 = pd.read_csv('CSV\\precios_semana_20200518', sep = ';')\n",
    "precios_semana_20200518.head()"
   ]
  },
  {
   "cell_type": "code",
   "execution_count": 7,
   "metadata": {},
   "outputs": [
    {
     "name": "stderr",
     "output_type": "stream",
     "text": [
      "C:\\Users\\Lina_\\AppData\\Local\\Temp\\ipykernel_12152\\169543413.py:1: DtypeWarning: Columns (2) have mixed types. Specify dtype option on import or set low_memory=False.\n",
      "  precios_20200419_20200426 = pd.read_csv('CSV\\precios_semanas_20200419_20200426', sep = ';')\n"
     ]
    },
    {
     "data": {
      "text/html": [
       "<div>\n",
       "<style scoped>\n",
       "    .dataframe tbody tr th:only-of-type {\n",
       "        vertical-align: middle;\n",
       "    }\n",
       "\n",
       "    .dataframe tbody tr th {\n",
       "        vertical-align: top;\n",
       "    }\n",
       "\n",
       "    .dataframe thead th {\n",
       "        text-align: right;\n",
       "    }\n",
       "</style>\n",
       "<table border=\"1\" class=\"dataframe\">\n",
       "  <thead>\n",
       "    <tr style=\"text-align: right;\">\n",
       "      <th></th>\n",
       "      <th>precio</th>\n",
       "      <th>sucursal_id</th>\n",
       "      <th>producto_id</th>\n",
       "    </tr>\n",
       "  </thead>\n",
       "  <tbody>\n",
       "    <tr>\n",
       "      <th>0</th>\n",
       "      <td>399.0</td>\n",
       "      <td>2-1-092</td>\n",
       "      <td>2288.0</td>\n",
       "    </tr>\n",
       "    <tr>\n",
       "      <th>1</th>\n",
       "      <td>299.0</td>\n",
       "      <td>2-1-206</td>\n",
       "      <td>2288.0</td>\n",
       "    </tr>\n",
       "    <tr>\n",
       "      <th>2</th>\n",
       "      <td>399.0</td>\n",
       "      <td>2-2-241</td>\n",
       "      <td>2288.0</td>\n",
       "    </tr>\n",
       "    <tr>\n",
       "      <th>3</th>\n",
       "      <td>49999.0</td>\n",
       "      <td>9-1-430</td>\n",
       "      <td>205870.0</td>\n",
       "    </tr>\n",
       "    <tr>\n",
       "      <th>4</th>\n",
       "      <td>53999.0</td>\n",
       "      <td>9-2-4</td>\n",
       "      <td>205870.0</td>\n",
       "    </tr>\n",
       "  </tbody>\n",
       "</table>\n",
       "</div>"
      ],
      "text/plain": [
       "    precio sucursal_id producto_id\n",
       "0    399.0     2-1-092      2288.0\n",
       "1    299.0     2-1-206      2288.0\n",
       "2    399.0     2-2-241      2288.0\n",
       "3  49999.0     9-1-430    205870.0\n",
       "4  53999.0       9-2-4    205870.0"
      ]
     },
     "execution_count": 7,
     "metadata": {},
     "output_type": "execute_result"
    }
   ],
   "source": [
    "precios_20200419_20200426 = pd.read_csv('CSV\\precios_semanas_20200419_20200426', sep = ';')\n",
    "precios_20200419_20200426.head()"
   ]
  },
  {
   "cell_type": "code",
   "execution_count": 8,
   "metadata": {},
   "outputs": [
    {
     "data": {
      "text/html": [
       "<div>\n",
       "<style scoped>\n",
       "    .dataframe tbody tr th:only-of-type {\n",
       "        vertical-align: middle;\n",
       "    }\n",
       "\n",
       "    .dataframe tbody tr th {\n",
       "        vertical-align: top;\n",
       "    }\n",
       "\n",
       "    .dataframe thead th {\n",
       "        text-align: right;\n",
       "    }\n",
       "</style>\n",
       "<table border=\"1\" class=\"dataframe\">\n",
       "  <thead>\n",
       "    <tr style=\"text-align: right;\">\n",
       "      <th></th>\n",
       "      <th>id</th>\n",
       "      <th>marca</th>\n",
       "      <th>nombre</th>\n",
       "      <th>presentacion</th>\n",
       "      <th>categoria1</th>\n",
       "      <th>categoria2</th>\n",
       "      <th>categoria3</th>\n",
       "    </tr>\n",
       "  </thead>\n",
       "  <tbody>\n",
       "    <tr>\n",
       "      <th>0</th>\n",
       "      <td>0000000001663</td>\n",
       "      <td>LA ANÓNIMA</td>\n",
       "      <td>Radicheta Atada La Anonima 1 Un</td>\n",
       "      <td>1.0 un</td>\n",
       "      <td>NaN</td>\n",
       "      <td>NaN</td>\n",
       "      <td>NaN</td>\n",
       "    </tr>\n",
       "    <tr>\n",
       "      <th>1</th>\n",
       "      <td>0000000002288</td>\n",
       "      <td>LA ANÓNIMA</td>\n",
       "      <td>Perejil Atado La Anonima 1 Un</td>\n",
       "      <td>1.0 un</td>\n",
       "      <td>NaN</td>\n",
       "      <td>NaN</td>\n",
       "      <td>NaN</td>\n",
       "    </tr>\n",
       "    <tr>\n",
       "      <th>2</th>\n",
       "      <td>0000000205870</td>\n",
       "      <td>SIN MARCA</td>\n",
       "      <td>Ojo de Bife 1 Kg</td>\n",
       "      <td>1.0 kg</td>\n",
       "      <td>NaN</td>\n",
       "      <td>NaN</td>\n",
       "      <td>NaN</td>\n",
       "    </tr>\n",
       "    <tr>\n",
       "      <th>3</th>\n",
       "      <td>0000000205894</td>\n",
       "      <td>SIN MARCA</td>\n",
       "      <td>Milanesa de Peceto Novillito 1 Kg</td>\n",
       "      <td>1.0 kg</td>\n",
       "      <td>NaN</td>\n",
       "      <td>NaN</td>\n",
       "      <td>NaN</td>\n",
       "    </tr>\n",
       "    <tr>\n",
       "      <th>4</th>\n",
       "      <td>0000000205955</td>\n",
       "      <td>SIN MARCA</td>\n",
       "      <td>Chiquizuela Novillito 1 Kg</td>\n",
       "      <td>1.0 kg</td>\n",
       "      <td>NaN</td>\n",
       "      <td>NaN</td>\n",
       "      <td>NaN</td>\n",
       "    </tr>\n",
       "  </tbody>\n",
       "</table>\n",
       "</div>"
      ],
      "text/plain": [
       "              id       marca                             nombre presentacion  \\\n",
       "0  0000000001663  LA ANÓNIMA    Radicheta Atada La Anonima 1 Un       1.0 un   \n",
       "1  0000000002288  LA ANÓNIMA      Perejil Atado La Anonima 1 Un       1.0 un   \n",
       "2  0000000205870   SIN MARCA                   Ojo de Bife 1 Kg       1.0 kg   \n",
       "3  0000000205894   SIN MARCA  Milanesa de Peceto Novillito 1 Kg       1.0 kg   \n",
       "4  0000000205955   SIN MARCA         Chiquizuela Novillito 1 Kg       1.0 kg   \n",
       "\n",
       "  categoria1 categoria2 categoria3  \n",
       "0        NaN        NaN        NaN  \n",
       "1        NaN        NaN        NaN  \n",
       "2        NaN        NaN        NaN  \n",
       "3        NaN        NaN        NaN  \n",
       "4        NaN        NaN        NaN  "
      ]
     },
     "execution_count": 8,
     "metadata": {},
     "output_type": "execute_result"
    }
   ],
   "source": [
    "producto = pd.read_csv('CSV\\producto', sep = ';')\n",
    "producto.head()"
   ]
  },
  {
   "cell_type": "code",
   "execution_count": 9,
   "metadata": {},
   "outputs": [
    {
     "data": {
      "text/html": [
       "<div>\n",
       "<style scoped>\n",
       "    .dataframe tbody tr th:only-of-type {\n",
       "        vertical-align: middle;\n",
       "    }\n",
       "\n",
       "    .dataframe tbody tr th {\n",
       "        vertical-align: top;\n",
       "    }\n",
       "\n",
       "    .dataframe thead th {\n",
       "        text-align: right;\n",
       "    }\n",
       "</style>\n",
       "<table border=\"1\" class=\"dataframe\">\n",
       "  <thead>\n",
       "    <tr style=\"text-align: right;\">\n",
       "      <th></th>\n",
       "      <th>id</th>\n",
       "      <th>comercioId</th>\n",
       "      <th>banderaId</th>\n",
       "      <th>banderaDescripcion</th>\n",
       "      <th>comercioRazonSocial</th>\n",
       "      <th>provincia</th>\n",
       "      <th>localidad</th>\n",
       "      <th>direccion</th>\n",
       "      <th>lat</th>\n",
       "      <th>lng</th>\n",
       "      <th>sucursalNombre</th>\n",
       "      <th>sucursalTipo</th>\n",
       "    </tr>\n",
       "  </thead>\n",
       "  <tbody>\n",
       "    <tr>\n",
       "      <th>0</th>\n",
       "      <td>1-1-7</td>\n",
       "      <td>1</td>\n",
       "      <td>1</td>\n",
       "      <td>Super MAMI</td>\n",
       "      <td>Dinosaurio S.A.</td>\n",
       "      <td>AR-X</td>\n",
       "      <td>SALSIPUEDES</td>\n",
       "      <td>E53 1011 None</td>\n",
       "      <td>-31.126667</td>\n",
       "      <td>-64.295250</td>\n",
       "      <td>Super Mami 4</td>\n",
       "      <td>Hipermercado</td>\n",
       "    </tr>\n",
       "    <tr>\n",
       "      <th>1</th>\n",
       "      <td>10-1-1</td>\n",
       "      <td>10</td>\n",
       "      <td>1</td>\n",
       "      <td>Hipermercado Carrefour</td>\n",
       "      <td>INC S.A.</td>\n",
       "      <td>AR-B</td>\n",
       "      <td>San Isidro</td>\n",
       "      <td>Bernardo De Irigoyen 2647</td>\n",
       "      <td>-34.491345</td>\n",
       "      <td>-58.589025</td>\n",
       "      <td>San Isidro</td>\n",
       "      <td>Hipermercado</td>\n",
       "    </tr>\n",
       "    <tr>\n",
       "      <th>2</th>\n",
       "      <td>10-1-10</td>\n",
       "      <td>10</td>\n",
       "      <td>1</td>\n",
       "      <td>Hipermercado Carrefour</td>\n",
       "      <td>INC S.A.</td>\n",
       "      <td>AR-B</td>\n",
       "      <td>Hurlingham</td>\n",
       "      <td>Av. Vergara 1910</td>\n",
       "      <td>-34.620610</td>\n",
       "      <td>-58.633769</td>\n",
       "      <td>Villa Tesei</td>\n",
       "      <td>Hipermercado</td>\n",
       "    </tr>\n",
       "    <tr>\n",
       "      <th>3</th>\n",
       "      <td>10-1-11</td>\n",
       "      <td>10</td>\n",
       "      <td>1</td>\n",
       "      <td>Hipermercado Carrefour</td>\n",
       "      <td>INC S.A.</td>\n",
       "      <td>AR-B</td>\n",
       "      <td>Malvinas Argentinas</td>\n",
       "      <td>Av. Arturo Illia 3770</td>\n",
       "      <td>-34.528883</td>\n",
       "      <td>-58.701631</td>\n",
       "      <td>Malvinas Argentinas</td>\n",
       "      <td>Hipermercado</td>\n",
       "    </tr>\n",
       "    <tr>\n",
       "      <th>4</th>\n",
       "      <td>10-1-112</td>\n",
       "      <td>10</td>\n",
       "      <td>1</td>\n",
       "      <td>Hipermercado Carrefour</td>\n",
       "      <td>INC S.A.</td>\n",
       "      <td>AR-A</td>\n",
       "      <td>Salta</td>\n",
       "      <td>20 De Febrero 37</td>\n",
       "      <td>-24.789072</td>\n",
       "      <td>-65.413699</td>\n",
       "      <td>Salta</td>\n",
       "      <td>Hipermercado</td>\n",
       "    </tr>\n",
       "  </tbody>\n",
       "</table>\n",
       "</div>"
      ],
      "text/plain": [
       "         id  comercioId  banderaId      banderaDescripcion  \\\n",
       "0     1-1-7           1          1              Super MAMI   \n",
       "1    10-1-1          10          1  Hipermercado Carrefour   \n",
       "2   10-1-10          10          1  Hipermercado Carrefour   \n",
       "3   10-1-11          10          1  Hipermercado Carrefour   \n",
       "4  10-1-112          10          1  Hipermercado Carrefour   \n",
       "\n",
       "  comercioRazonSocial provincia            localidad  \\\n",
       "0     Dinosaurio S.A.      AR-X          SALSIPUEDES   \n",
       "1            INC S.A.      AR-B           San Isidro   \n",
       "2            INC S.A.      AR-B           Hurlingham   \n",
       "3            INC S.A.      AR-B  Malvinas Argentinas   \n",
       "4            INC S.A.      AR-A                Salta   \n",
       "\n",
       "                   direccion        lat        lng       sucursalNombre  \\\n",
       "0              E53 1011 None -31.126667 -64.295250         Super Mami 4   \n",
       "1  Bernardo De Irigoyen 2647 -34.491345 -58.589025           San Isidro   \n",
       "2           Av. Vergara 1910 -34.620610 -58.633769          Villa Tesei   \n",
       "3      Av. Arturo Illia 3770 -34.528883 -58.701631  Malvinas Argentinas   \n",
       "4           20 De Febrero 37 -24.789072 -65.413699                Salta   \n",
       "\n",
       "   sucursalTipo  \n",
       "0  Hipermercado  \n",
       "1  Hipermercado  \n",
       "2  Hipermercado  \n",
       "3  Hipermercado  \n",
       "4  Hipermercado  "
      ]
     },
     "execution_count": 9,
     "metadata": {},
     "output_type": "execute_result"
    }
   ],
   "source": [
    "sucursal = pd.read_csv('CSV\\sucursal', sep = ';')\n",
    "sucursal.head()"
   ]
  },
  {
   "cell_type": "markdown",
   "metadata": {},
   "source": [
    "PASO 2 </br>\n",
    "En este paso vamos a visualizar la informacion general de los datasets, sus valores nulos, tipo de datos, etc"
   ]
  },
  {
   "cell_type": "markdown",
   "metadata": {},
   "source": [
    "    Vamos a visualizar la informacion general de cada dataframe, vamos a contar cuantos valores nulos tiene cada uno y contar valores duplicados"
   ]
  },
  {
   "cell_type": "code",
   "execution_count": 11,
   "metadata": {},
   "outputs": [
    {
     "name": "stdout",
     "output_type": "stream",
     "text": [
      "<class 'pandas.core.frame.DataFrame'>\n",
      "RangeIndex: 472166 entries, 0 to 472165\n",
      "Data columns (total 3 columns):\n",
      " #   Column       Non-Null Count   Dtype  \n",
      "---  ------       --------------   -----  \n",
      " 0   precio       472153 non-null  float64\n",
      " 1   producto_id  472151 non-null  object \n",
      " 2   sucursal_id  472151 non-null  object \n",
      "dtypes: float64(1), object(2)\n",
      "memory usage: 10.8+ MB\n",
      "-------------------------------\n",
      "precio         13\n",
      "producto_id    15\n",
      "sucursal_id    15\n",
      "dtype: int64\n",
      "-------------------------------\n"
     ]
    },
    {
     "data": {
      "text/plain": [
       "32"
      ]
     },
     "execution_count": 11,
     "metadata": {},
     "output_type": "execute_result"
    }
   ],
   "source": [
    "precios_semana_20200413.info()\n",
    "print('-------------------------------')\n",
    "print(precios_semana_20200413.isnull().sum())\n",
    "print('-------------------------------')\n",
    "precios_semana_20200413.duplicated().sum()"
   ]
  },
  {
   "cell_type": "code",
   "execution_count": 13,
   "metadata": {},
   "outputs": [
    {
     "name": "stdout",
     "output_type": "stream",
     "text": [
      "<class 'pandas.core.frame.DataFrame'>\n",
      "RangeIndex: 397734 entries, 0 to 397733\n",
      "Data columns (total 3 columns):\n",
      " #   Column       Non-Null Count   Dtype  \n",
      "---  ------       --------------   -----  \n",
      " 0   precio       395610 non-null  float64\n",
      " 1   producto_id  397734 non-null  object \n",
      " 2   sucursal_id  397734 non-null  object \n",
      "dtypes: float64(1), object(2)\n",
      "memory usage: 9.1+ MB\n",
      "-------------------------------\n",
      "precio         2124\n",
      "producto_id       0\n",
      "sucursal_id       0\n",
      "dtype: int64\n",
      "-------------------------------\n"
     ]
    },
    {
     "data": {
      "text/plain": [
       "0"
      ]
     },
     "execution_count": 13,
     "metadata": {},
     "output_type": "execute_result"
    }
   ],
   "source": [
    "precios_semana_20200503.info()\n",
    "print('-------------------------------')\n",
    "print(precios_semana_20200503.isnull().sum())\n",
    "print('-------------------------------')\n",
    "precios_semana_20200503.duplicated().sum()"
   ]
  },
  {
   "cell_type": "code",
   "execution_count": 14,
   "metadata": {},
   "outputs": [
    {
     "name": "stdout",
     "output_type": "stream",
     "text": [
      "<class 'pandas.core.frame.DataFrame'>\n",
      "RangeIndex: 415293 entries, 0 to 415292\n",
      "Data columns (total 3 columns):\n",
      " #   Column       Non-Null Count   Dtype  \n",
      "---  ------       --------------   -----  \n",
      " 0   precio       413333 non-null  float64\n",
      " 1   producto_id  415287 non-null  object \n",
      " 2   sucursal_id  415287 non-null  object \n",
      "dtypes: float64(1), object(2)\n",
      "memory usage: 9.5+ MB\n",
      "-------------------------------\n",
      "precio         1960\n",
      "producto_id       6\n",
      "sucursal_id       6\n",
      "dtype: int64\n",
      "-------------------------------\n"
     ]
    },
    {
     "data": {
      "text/plain": [
       "189"
      ]
     },
     "execution_count": 14,
     "metadata": {},
     "output_type": "execute_result"
    }
   ],
   "source": [
    "precios_semana_20200518.info()\n",
    "print('-------------------------------')\n",
    "print(precios_semana_20200518.isnull().sum())\n",
    "print('-------------------------------')\n",
    "precios_semana_20200518.duplicated().sum()"
   ]
  },
  {
   "cell_type": "code",
   "execution_count": 15,
   "metadata": {},
   "outputs": [
    {
     "name": "stdout",
     "output_type": "stream",
     "text": [
      "<class 'pandas.core.frame.DataFrame'>\n",
      "RangeIndex: 937452 entries, 0 to 937451\n",
      "Data columns (total 3 columns):\n",
      " #   Column       Non-Null Count   Dtype  \n",
      "---  ------       --------------   -----  \n",
      " 0   precio       933909 non-null  float64\n",
      " 1   sucursal_id  937452 non-null  object \n",
      " 2   producto_id  923933 non-null  object \n",
      "dtypes: float64(1), object(2)\n",
      "memory usage: 21.5+ MB\n",
      "-------------------------------\n",
      "precio          3543\n",
      "sucursal_id        0\n",
      "producto_id    13519\n",
      "dtype: int64\n",
      "-------------------------------\n"
     ]
    },
    {
     "data": {
      "text/plain": [
       "4217"
      ]
     },
     "execution_count": 15,
     "metadata": {},
     "output_type": "execute_result"
    }
   ],
   "source": [
    "precios_20200419_20200426.info()\n",
    "print('-------------------------------')\n",
    "print(precios_20200419_20200426.isnull().sum())\n",
    "print('-------------------------------')\n",
    "precios_20200419_20200426.duplicated().sum()"
   ]
  },
  {
   "cell_type": "code",
   "execution_count": 16,
   "metadata": {},
   "outputs": [
    {
     "name": "stdout",
     "output_type": "stream",
     "text": [
      "<class 'pandas.core.frame.DataFrame'>\n",
      "RangeIndex: 72038 entries, 0 to 72037\n",
      "Data columns (total 7 columns):\n",
      " #   Column        Non-Null Count  Dtype \n",
      "---  ------        --------------  ----- \n",
      " 0   id            72038 non-null  object\n",
      " 1   marca         72036 non-null  object\n",
      " 2   nombre        72036 non-null  object\n",
      " 3   presentacion  72036 non-null  object\n",
      " 4   categoria1    4 non-null      object\n",
      " 5   categoria2    4 non-null      object\n",
      " 6   categoria3    4 non-null      object\n",
      "dtypes: object(7)\n",
      "memory usage: 3.8+ MB\n",
      "-------------------------------\n",
      "id                  0\n",
      "marca               2\n",
      "nombre              2\n",
      "presentacion        2\n",
      "categoria1      72034\n",
      "categoria2      72034\n",
      "categoria3      72034\n",
      "dtype: int64\n",
      "-------------------------------\n"
     ]
    },
    {
     "data": {
      "text/plain": [
       "0"
      ]
     },
     "execution_count": 16,
     "metadata": {},
     "output_type": "execute_result"
    }
   ],
   "source": [
    "producto.info()\n",
    "print('-------------------------------')\n",
    "print(producto.isnull().sum())\n",
    "print('-------------------------------')\n",
    "producto.duplicated().sum()"
   ]
  },
  {
   "cell_type": "code",
   "execution_count": 17,
   "metadata": {},
   "outputs": [
    {
     "name": "stdout",
     "output_type": "stream",
     "text": [
      "<class 'pandas.core.frame.DataFrame'>\n",
      "RangeIndex: 2333 entries, 0 to 2332\n",
      "Data columns (total 12 columns):\n",
      " #   Column               Non-Null Count  Dtype  \n",
      "---  ------               --------------  -----  \n",
      " 0   id                   2333 non-null   object \n",
      " 1   comercioId           2333 non-null   int64  \n",
      " 2   banderaId            2333 non-null   int64  \n",
      " 3   banderaDescripcion   2333 non-null   object \n",
      " 4   comercioRazonSocial  2333 non-null   object \n",
      " 5   provincia            2333 non-null   object \n",
      " 6   localidad            2333 non-null   object \n",
      " 7   direccion            2333 non-null   object \n",
      " 8   lat                  2333 non-null   float64\n",
      " 9   lng                  2333 non-null   float64\n",
      " 10  sucursalNombre       2333 non-null   object \n",
      " 11  sucursalTipo         2333 non-null   object \n",
      "dtypes: float64(2), int64(2), object(8)\n",
      "memory usage: 218.8+ KB\n",
      "-------------------------------\n",
      "id                     0\n",
      "comercioId             0\n",
      "banderaId              0\n",
      "banderaDescripcion     0\n",
      "comercioRazonSocial    0\n",
      "provincia              0\n",
      "localidad              0\n",
      "direccion              0\n",
      "lat                    0\n",
      "lng                    0\n",
      "sucursalNombre         0\n",
      "sucursalTipo           0\n",
      "dtype: int64\n",
      "-------------------------------\n"
     ]
    },
    {
     "data": {
      "text/plain": [
       "0"
      ]
     },
     "execution_count": 17,
     "metadata": {},
     "output_type": "execute_result"
    }
   ],
   "source": [
    "sucursal.info()\n",
    "print('-------------------------------')\n",
    "print(sucursal.isnull().sum())\n",
    "print('-------------------------------')\n",
    "sucursal.duplicated().sum()"
   ]
  },
  {
   "cell_type": "markdown",
   "metadata": {},
   "source": [
    "PASO 3 </br>\n",
    "En este paso vamos a transformar los datos y limpiar un poco cada dataframe"
   ]
  },
  {
   "cell_type": "markdown",
   "metadata": {},
   "source": [
    "    Imputamos valores faltantes en cada columna del dataframe con valores faltantes por cada uno de los dataframes"
   ]
  },
  {
   "cell_type": "code",
   "execution_count": 18,
   "metadata": {},
   "outputs": [],
   "source": [
    "precios_semana_20200413[\"precio\"].fillna(0, inplace= True)\n",
    "precios_semana_20200413[\"producto_id\"].fillna('SIN DATO' , inplace=True)\n",
    "precios_semana_20200413[\"sucursal_id\"].fillna('SIN DATO' , inplace=True)"
   ]
  },
  {
   "cell_type": "code",
   "execution_count": 19,
   "metadata": {},
   "outputs": [],
   "source": [
    "precios_semana_20200503['precio'].replace('', 0, inplace=True) #Esto es porque en el dataframe hay espacios que no se reconocen como nulos."
   ]
  },
  {
   "cell_type": "code",
   "execution_count": 20,
   "metadata": {},
   "outputs": [],
   "source": [
    "precios_semana_20200518[\"precio\"].fillna(0, inplace= True)\n",
    "precios_semana_20200518[\"producto_id\"].fillna('SIN DATO' , inplace=True)\n",
    "precios_semana_20200518[\"sucursal_id\"].fillna('SIN DATO' , inplace=True)"
   ]
  },
  {
   "cell_type": "code",
   "execution_count": 21,
   "metadata": {},
   "outputs": [],
   "source": [
    "precios_20200419_20200426[\"precio\"].fillna(0, inplace= True)\n",
    "precios_20200419_20200426[\"producto_id\"].fillna('SIN DATO' , inplace=True)\n",
    "precios_20200419_20200426[\"sucursal_id\"].fillna('SIN DATO' , inplace=True)\n",
    "\n",
    "precios_20200419_20200426['precio'].replace('', 0, inplace=True)\n",
    "precios_20200419_20200426[\"producto_id\"].replace('' ,'SIN DATO', inplace=True)\n",
    "precios_20200419_20200426['sucursal_id'].replace('' ,'SIN DATO', inplace=True)"
   ]
  },
  {
   "cell_type": "code",
   "execution_count": 22,
   "metadata": {},
   "outputs": [],
   "source": [
    "producto.fillna('SIN DATO', inplace= True)"
   ]
  },
  {
   "cell_type": "markdown",
   "metadata": {},
   "source": [
    "    Vamos a cambiar el tipo de dato en las columnas que no coincidan con el dato que poseen"
   ]
  },
  {
   "cell_type": "code",
   "execution_count": 23,
   "metadata": {},
   "outputs": [],
   "source": [
    "precios_semana_20200413['producto_id'] = precios_semana_20200413['producto_id'].astype('string')\n",
    "precios_semana_20200413['sucursal_id'] = precios_semana_20200413['sucursal_id'].astype('string')"
   ]
  },
  {
   "cell_type": "code",
   "execution_count": 24,
   "metadata": {},
   "outputs": [],
   "source": [
    "precios_semana_20200503['precio'] = precios_semana_20200503['precio'].astype('float64')  \n",
    "precios_semana_20200503['producto_id'] = precios_semana_20200503['producto_id'].astype('string')\n",
    "precios_semana_20200503['sucursal_id'] = precios_semana_20200503['sucursal_id'].astype('string')"
   ]
  },
  {
   "cell_type": "code",
   "execution_count": 25,
   "metadata": {},
   "outputs": [],
   "source": [
    "precios_semana_20200518['producto_id'] = precios_semana_20200518['producto_id'].astype('string')\n",
    "precios_semana_20200518['sucursal_id'] = precios_semana_20200518['sucursal_id'].astype('string')"
   ]
  },
  {
   "cell_type": "code",
   "execution_count": 26,
   "metadata": {},
   "outputs": [],
   "source": [
    "precios_20200419_20200426['producto_id'] = precios_20200419_20200426['producto_id'].astype('string')\n",
    "precios_20200419_20200426['sucursal_id'] = precios_20200419_20200426['sucursal_id'].astype('string')"
   ]
  },
  {
   "cell_type": "code",
   "execution_count": 27,
   "metadata": {},
   "outputs": [],
   "source": [
    "producto['id'] = producto['id'].astype('string')\n",
    "producto['marca'] = producto['marca'].astype('string')\n",
    "producto['nombre'] = producto['nombre'].astype('string')\n",
    "producto['presentacion'] = producto['presentacion'].astype('string')\n",
    "producto['categoria1'] = producto['categoria1'].astype('string')\n",
    "producto['categoria2'] = producto['categoria2'].astype('string')\n",
    "producto['categoria3'] = producto['categoria3'].astype('string')"
   ]
  },
  {
   "cell_type": "code",
   "execution_count": 28,
   "metadata": {},
   "outputs": [],
   "source": [
    "sucursal['id'] = sucursal['id'].astype('string')\n",
    "sucursal['comercioId'] = sucursal['comercioId'].astype('int64')\n",
    "sucursal['banderaDescripcion'] = sucursal['banderaDescripcion'].astype('string')\n",
    "sucursal['banderaId'] = sucursal['banderaId'].astype('int64')\n",
    "sucursal['comercioRazonSocial'] = sucursal['comercioRazonSocial'].astype('string')\n",
    "sucursal['provincia'] = sucursal['provincia'].astype('string')\n",
    "sucursal['localidad'] = sucursal['localidad'].astype('string')\n",
    "sucursal['direccion'] = sucursal['direccion'].astype('string')\n",
    "sucursal['lat'] = sucursal['lat'].astype('float64')\n",
    "sucursal['sucursalNombre'] = sucursal['sucursalNombre'].astype('string')\n",
    "sucursal['sucursalTipo'] = sucursal['sucursalTipo'].astype('string')"
   ]
  },
  {
   "cell_type": "markdown",
   "metadata": {},
   "source": [
    "    Normalizamos las columnas de cada dataframe para cambiar los datos y darles la estructura necesaria para una correcta visualizacion y analisis"
   ]
  },
  {
   "cell_type": "code",
   "execution_count": 29,
   "metadata": {},
   "outputs": [],
   "source": [
    "precios_20200419_20200426['producto_id'] = precios_20200419_20200426['producto_id'].astype('string').str.rstrip('.0')#Quitamos los .0 que hay en la columna\n",
    "precios_20200419_20200426['producto_id'] = precios_20200419_20200426['producto_id'].str.zfill(13)#Al inicio llenamos con 0 hasta que hayan 13 digitos"
   ]
  },
  {
   "cell_type": "code",
   "execution_count": 30,
   "metadata": {},
   "outputs": [],
   "source": [
    "precios_20200419_20200426['sucursal_id'] = precios_20200419_20200426['sucursal_id'].astype('string').str.rstrip('00:00:00')#Quitamos el formato de fecha"
   ]
  },
  {
   "cell_type": "code",
   "execution_count": 31,
   "metadata": {},
   "outputs": [
    {
     "data": {
      "text/html": [
       "<div>\n",
       "<style scoped>\n",
       "    .dataframe tbody tr th:only-of-type {\n",
       "        vertical-align: middle;\n",
       "    }\n",
       "\n",
       "    .dataframe tbody tr th {\n",
       "        vertical-align: top;\n",
       "    }\n",
       "\n",
       "    .dataframe thead th {\n",
       "        text-align: right;\n",
       "    }\n",
       "</style>\n",
       "<table border=\"1\" class=\"dataframe\">\n",
       "  <thead>\n",
       "    <tr style=\"text-align: right;\">\n",
       "      <th></th>\n",
       "      <th>precio</th>\n",
       "      <th>sucursal_id</th>\n",
       "      <th>producto_id</th>\n",
       "    </tr>\n",
       "  </thead>\n",
       "  <tbody>\n",
       "    <tr>\n",
       "      <th>0</th>\n",
       "      <td>399.0</td>\n",
       "      <td>2-1-092</td>\n",
       "      <td>0000000002288</td>\n",
       "    </tr>\n",
       "    <tr>\n",
       "      <th>1</th>\n",
       "      <td>299.0</td>\n",
       "      <td>2-1-206</td>\n",
       "      <td>0000000002288</td>\n",
       "    </tr>\n",
       "    <tr>\n",
       "      <th>2</th>\n",
       "      <td>399.0</td>\n",
       "      <td>2-2-241</td>\n",
       "      <td>0000000002288</td>\n",
       "    </tr>\n",
       "    <tr>\n",
       "      <th>3</th>\n",
       "      <td>49999.0</td>\n",
       "      <td>9-1-43</td>\n",
       "      <td>0000000020587</td>\n",
       "    </tr>\n",
       "    <tr>\n",
       "      <th>4</th>\n",
       "      <td>53999.0</td>\n",
       "      <td>9-2-4</td>\n",
       "      <td>0000000020587</td>\n",
       "    </tr>\n",
       "    <tr>\n",
       "      <th>5</th>\n",
       "      <td>53999.0</td>\n",
       "      <td>9-3-5218</td>\n",
       "      <td>0000000020587</td>\n",
       "    </tr>\n",
       "    <tr>\n",
       "      <th>6</th>\n",
       "      <td>58999.0</td>\n",
       "      <td>9-1-43</td>\n",
       "      <td>0000000205894</td>\n",
       "    </tr>\n",
       "    <tr>\n",
       "      <th>7</th>\n",
       "      <td>18999.0</td>\n",
       "      <td>9-1-43</td>\n",
       "      <td>0000000205955</td>\n",
       "    </tr>\n",
       "    <tr>\n",
       "      <th>8</th>\n",
       "      <td>10499.0</td>\n",
       "      <td>9-1-43</td>\n",
       "      <td>0000000205979</td>\n",
       "    </tr>\n",
       "    <tr>\n",
       "      <th>9</th>\n",
       "      <td>2290.0</td>\n",
       "      <td>9-1-43</td>\n",
       "      <td>0000000020602</td>\n",
       "    </tr>\n",
       "  </tbody>\n",
       "</table>\n",
       "</div>"
      ],
      "text/plain": [
       "    precio sucursal_id    producto_id\n",
       "0    399.0     2-1-092  0000000002288\n",
       "1    299.0     2-1-206  0000000002288\n",
       "2    399.0     2-2-241  0000000002288\n",
       "3  49999.0      9-1-43  0000000020587\n",
       "4  53999.0       9-2-4  0000000020587\n",
       "5  53999.0    9-3-5218  0000000020587\n",
       "6  58999.0      9-1-43  0000000205894\n",
       "7  18999.0      9-1-43  0000000205955\n",
       "8  10499.0      9-1-43  0000000205979\n",
       "9   2290.0      9-1-43  0000000020602"
      ]
     },
     "execution_count": 31,
     "metadata": {},
     "output_type": "execute_result"
    }
   ],
   "source": [
    "precios_20200419_20200426.head(10)"
   ]
  },
  {
   "cell_type": "markdown",
   "metadata": {},
   "source": [
    "PASO 6 </br>\n",
    "En este paso vamos a cargar con SQLALCHEMY el csv generado de la transformacion del dataset de precios_20200419_20200426 "
   ]
  },
  {
   "cell_type": "code",
   "execution_count": 36,
   "metadata": {},
   "outputs": [],
   "source": [
    "import pymysql\n",
    "from sqlalchemy import create_engine\n",
    "\n",
    "cadena_conexion = 'mysql+pymysql://root:@localhost:3306/proyecto_individual' #Creamos la cadena de conexion que sera el path de nuestra base de datos\n",
    "\n",
    "conexion= create_engine(cadena_conexion) #creamos la conexion con mysql\n"
   ]
  },
  {
   "cell_type": "code",
   "execution_count": 37,
   "metadata": {},
   "outputs": [
    {
     "data": {
      "text/plain": [
       "2333"
      ]
     },
     "execution_count": 37,
     "metadata": {},
     "output_type": "execute_result"
    }
   ],
   "source": [
    "precios_20200419_20200426.to_sql(name='precios_semana_20200419_20200426', con=conexion, index=False) #Creamos la tabla en mysql e insertamos los valores\n",
    "precios_semana_20200518.to_sql(name='precios_semana_20200518', con=conexion, index=False)\n",
    "precios_semana_20200413.to_sql(name='precios_semana_20200413', con=conexion, index=False)\n",
    "precios_semana_20200503.to_sql(name='precios_semana_20200503', con=conexion, index=False)\n",
    "producto.to_sql(name='producto', con=conexion, index=False)\n",
    "sucursal.to_sql(name='sucursal', con=conexion, index=False)"
   ]
  },
  {
   "cell_type": "code",
   "execution_count": null,
   "metadata": {},
   "outputs": [],
   "source": []
  }
 ],
 "metadata": {
  "kernelspec": {
   "display_name": "Python 3.10.4 64-bit",
   "language": "python",
   "name": "python3"
  },
  "language_info": {
   "codemirror_mode": {
    "name": "ipython",
    "version": 3
   },
   "file_extension": ".py",
   "mimetype": "text/x-python",
   "name": "python",
   "nbconvert_exporter": "python",
   "pygments_lexer": "ipython3",
   "version": "3.10.4"
  },
  "orig_nbformat": 4,
  "vscode": {
   "interpreter": {
    "hash": "29329669789227c7db5db3129d8babe5839e07e2db888185c4e257cef6de5c65"
   }
  }
 },
 "nbformat": 4,
 "nbformat_minor": 2
}
